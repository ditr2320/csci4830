{
 "cells": [
  {
   "cell_type": "code",
   "execution_count": 1,
   "id": "f628a925-e9a3-4328-b085-c8646fabdb9b",
   "metadata": {},
   "outputs": [],
   "source": [
    "from scipy.stats import nbinom\n",
    "import numpy as np\n",
    "import pandas as pd\n",
    "import matplotlib.pyplot as plt"
   ]
  },
  {
   "cell_type": "code",
   "execution_count": 2,
   "id": "3b2a7d31-24c3-468a-8742-a697aa422a06",
   "metadata": {},
   "outputs": [],
   "source": [
    "def branching(k,R0,G):\n",
    "    mean = R0\n",
    "    variance = mean + (mean ** 2) / k\n",
    "    p = mean / variance\n",
    "    n = mean ** 2 / (variance - mean)\n",
    "    i = 1\n",
    "    \n",
    "    for gen in range(G):\n",
    "        new_i = nbinom(n=n, p=p).rvs(size=i).sum()\n",
    "        if new_i == 0: return True\n",
    "        else: i = new_i\n",
    "\n",
    "    return False\n",
    "\n",
    "def average(k,R0,G):\n",
    "    iterations = 1000\n",
    "    count = 0\n",
    "    for i in range(iterations):\n",
    "        if branching(k,R0,G) == True:\n",
    "            count += 1\n",
    "\n",
    "    q = count / iterations #find probability of dying out\n",
    "    return q"
   ]
  },
  {
   "cell_type": "code",
   "execution_count": 3,
   "id": "f184a729-b191-4351-a383-1d0def884e70",
   "metadata": {},
   "outputs": [],
   "source": [
    "R0 = 3 \n",
    "G = 10\n",
    "q1 = average(0.1,R0,G)\n",
    "q2 = average(0.5,R0,G)\n",
    "q3 = average(1.0,R0,G)\n",
    "q4 = average(5.0,R0,G)\n",
    "q5 = average(10.0,R0,G)"
   ]
  },
  {
   "cell_type": "code",
   "execution_count": 4,
   "id": "2da55c3f-55b7-4be8-82e4-4358c78c1c18",
   "metadata": {},
   "outputs": [
    {
     "name": "stdout",
     "output_type": "stream",
     "text": [
      "      k      q\n",
      "0   0.1  0.842\n",
      "1   0.5  0.499\n",
      "2   1.0  0.336\n",
      "3   5.0  0.118\n",
      "4  10.0  0.088\n"
     ]
    }
   ],
   "source": [
    "df = pd.DataFrame({\"k\": [0.1, 0.5, 1.0, 5.0, 10.0], \"q\": [q1,q2,q3,q4,q5]})\n",
    "print(df)"
   ]
  },
  {
   "cell_type": "code",
   "execution_count": 5,
   "id": "38e1443a-e3f8-42f9-993e-997f57dadc72",
   "metadata": {},
   "outputs": [
    {
     "name": "stdout",
     "output_type": "stream",
     "text": [
      "14\n"
     ]
    },
    {
     "data": {
      "image/png": "[encoded data removed]",
      "text/plain": [
       "<Figure size 432x288 with 1 Axes>"
      ]
     },
     "metadata": {
      "needs_background": "light"
     },
     "output_type": "display_data"
    }
   ],
   "source": [
    "k = 100\n",
    "R0 = 3 \n",
    "mean = R0\n",
    "variance = mean + (mean**2)/k\n",
    "p = mean/variance\n",
    "n = mean**2 / (variance - mean)\n",
    "draws = nbinom.rvs(n=n,p=p,size=100000)\n",
    "print(max(draws))\n",
    "plt.hist(draws, bins=20)\n",
    "plt.title(\"k=100\")\n",
    "plt.show()"
   ]
  },
  {
   "cell_type": "code",
   "execution_count": 6,
   "id": "09743c4d-f614-40a9-942e-bbac58a05651",
   "metadata": {},
   "outputs": [],
   "source": [
    "def branching(k, R0, G):\n",
    "    mean = R0\n",
    "    variance = mean + (mean ** 2) / k\n",
    "    p = mean / variance\n",
    "    n = mean ** 2 / (variance - mean)\n",
    "    i = 1\n",
    "    \n",
    "    for gen in range(G):\n",
    "        new_i = nbinom(n=n, p=p).rvs(size=i).sum()\n",
    "        if new_i == 0:\n",
    "            return i\n",
    "        else:\n",
    "            i = new_i\n",
    "\n",
    "    return 0\n",
    "\n",
    "def average(k, R0, G, iterations=1000):\n",
    "    sizes = []\n",
    "    for i in range(iterations):\n",
    "        sizes.append(branching(k, R0, G))\n",
    "\n",
    "    return sizes"
   ]
  },
  {
   "cell_type": "code",
   "execution_count": 7,
   "id": "017f7274-a9ee-4211-aff3-f99c1ea7d64f",
   "metadata": {},
   "outputs": [
    {
     "data": {
      "image/png": "[encoded data removed]",
      "text/plain": [
       "<Figure size 432x288 with 1 Axes>"
      ]
     },
     "metadata": {
      "needs_background": "light"
     },
     "output_type": "display_data"
    }
   ],
   "source": [
    "# Parameters\n",
    "R0 = 3\n",
    "G = 10\n",
    "k = 0.1\n",
    "outbreaks = average(k, R0, G)\n",
    "plt.hist(outbreaks, bins=50)\n",
    "plt.xlabel(\"Size\")\n",
    "plt.ylabel(\"Frequency\")\n",
    "plt.title(\"k=0.1, R0=3\")\n",
    "plt.show()"
   ]
  },
  {
   "cell_type": "code",
   "execution_count": 8,
   "id": "9273a5b9-c1f4-41d1-b5cf-6e56bc9c0cab",
   "metadata": {},
   "outputs": [
    {
     "data": {
      "image/png": "[encoded data removed]",
      "text/plain": [
       "<Figure size 432x288 with 1 Axes>"
      ]
     },
     "metadata": {
      "needs_background": "light"
     },
     "output_type": "display_data"
    }
   ],
   "source": [
    "# Parameters\n",
    "R0 = 3\n",
    "G = 10\n",
    "k = 10\n",
    "outbreaks = average(k, R0, G)\n",
    "plt.hist(outbreaks, bins=50)\n",
    "plt.xlabel(\"Size\")\n",
    "plt.ylabel(\"Frequency\")\n",
    "plt.title(\"k=10, R0=3\")\n",
    "plt.show()"
   ]
  }
 ],
 "metadata": {
  "kernelspec": {
   "display_name": "Python 3 (ipykernel)",
   "language": "python",
   "name": "python3"
  },
  "language_info": {
   "codemirror_mode": {
    "name": "ipython",
    "version": 3
   },
   "file_extension": ".py",
   "mimetype": "text/x-python",
   "name": "python",
   "nbconvert_exporter": "python",
   "pygments_lexer": "ipython3",
   "version": "3.9.7"
  }
 },
 "nbformat": 4,
 "nbformat_minor": 5
}
