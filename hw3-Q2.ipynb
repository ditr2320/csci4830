{
 "cells": [
  {
   "cell_type": "code",
   "execution_count": 138,
   "id": "6dc685ee-f029-418c-960b-880c1ebb3b36",
   "metadata": {},
   "outputs": [],
   "source": [
    "import numpy as np\n",
    "import matplotlib.pyplot as plt\n",
    "from scipy.optimize import fsolve\n",
    "import math"
   ]
  },
  {
   "cell_type": "code",
   "execution_count": 139,
   "id": "350802cc-3c7f-4b26-bf46-725e279ecf83",
   "metadata": {},
   "outputs": [],
   "source": [
    "def eulerSIR(initial):\n",
    "    \n",
    "    I0, S0 = initial\n",
    "    dt = 0.1\n",
    "    Dp = np.diag([1,2,3,4])\n",
    "    C = np.array([[0.1125, 0.1125, 0.1125, 0.1125],\n",
    "                       [0.1125, 0.1125, 0.1125, 0.1125],\n",
    "                       [0.1125, 0.1125, 0.1125, 0.1125],\n",
    "                       [0.1125, 0.1125, 0.1125, 0.1125]])\n",
    "    Dw = np.diag([4,4,4,4])\n",
    "    Dg = np.diag([1/3,1/3,1/3,1/3])\n",
    "    \n",
    "    # lists to store SIR values & initial conditions\n",
    "    sList = []\n",
    "    sList.append([S0,S0,S0,S0])\n",
    "    iList = []\n",
    "    iList.append([I0,I0,I0,I0])\n",
    "    rList = []\n",
    "    rList.append([0,0,0,0])\n",
    "\n",
    "    # list to store time\n",
    "    time = np.arange(0, 50, dt).tolist()\n",
    "    \n",
    "    for i in range(0,len(time)-1):\n",
    "        Ds = np.diag(sList[-1]) \n",
    "        i = np.diag(iList[-1])\n",
    "        r = np.diag(rList[-1])\n",
    "    \n",
    "        sdot = -Ds*Dp*C*Dw*i\n",
    "        Ds1 = Ds + sdot\n",
    "        s = np.diag(Ds1)\n",
    "        \n",
    "        idot = Ds*Dp*C*Dw*i - Dg*i\n",
    "        i1 = i + idot \n",
    "        i2 = np.diag(i1)\n",
    "        \n",
    "        rdot = Dg*i\n",
    "        r1 = r + rdot\n",
    "        r2 = np.diag(r1) \n",
    "    \n",
    "        sList.append(s)\n",
    "        iList.append(i2)\n",
    "        rList.append(r2)\n",
    "    return((time, sList,iList,rList))"
   ]
  },
  {
   "cell_type": "code",
   "execution_count": 167,
   "id": "6ba424fb-3e30-4fd5-921c-98acc4d608ac",
   "metadata": {},
   "outputs": [],
   "source": [
    "def plot(time, sList):\n",
    "    i1 = list(map(lambda x: x[0], iList))\n",
    "    i2 = list(map(lambda x: x[1], iList))\n",
    "    i3 = list(map(lambda x: x[2], iList))\n",
    "    i4 = list(map(lambda x: x[3], iList))\n",
    "    fig, ax = plt.subplots(nrows=1,ncols=1)\n",
    "    ax.plot(time,i1,label='I1',color=\"#e4c9d6\")\n",
    "    ax.plot(time,i2,label='I2',color=\"#b77093\")\n",
    "    ax.plot(time,i3,label='I3',color=\"#743554\")\n",
    "    ax.plot(time,i4,label='I4',color=\"#210f18\")\n",
    "    ax.legend(loc='center right')\n",
    "    ax.set_xlim(left=0)\n",
    "    ax.set_xlim(right=9)\n",
    "    ax.set_ylim(bottom=0)\n",
    "    ax.set_xlabel('time')\n",
    "    ax.set_ylabel('population')\n",
    "    ax.set_title('Infections by Group')"
   ]
  },
  {
   "cell_type": "code",
   "execution_count": 168,
   "id": "0661cb87-c9b1-4c8a-a0ff-9c65edf16d0f",
   "metadata": {},
   "outputs": [],
   "source": [
    "initial = (0.001,0.999) # initial conditions (I,S)"
   ]
  },
  {
   "cell_type": "code",
   "execution_count": 169,
   "id": "f7ca0f9c-c026-4a82-93e8-4f7ec453e43f",
   "metadata": {},
   "outputs": [
    {
     "data": {
      "image/png": "[encoded data removed]",
      "text/plain": [
       "<Figure size 432x288 with 1 Axes>"
      ]
     },
     "metadata": {
      "needs_background": "light"
     },
     "output_type": "display_data"
    }
   ],
   "source": [
    "time, sList, iList, rList = eulerSIR(initial)\n",
    "plot(time,sList)"
   ]
  },
  {
   "cell_type": "code",
   "execution_count": null,
   "id": "782c04cd-8c11-4e9a-930e-e5a3862e5869",
   "metadata": {},
   "outputs": [],
   "source": []
  }
 ],
 "metadata": {
  "kernelspec": {
   "display_name": "Python 3 (ipykernel)",
   "language": "python",
   "name": "python3"
  },
  "language_info": {
   "codemirror_mode": {
    "name": "ipython",
    "version": 3
   },
   "file_extension": ".py",
   "mimetype": "text/x-python",
   "name": "python",
   "nbconvert_exporter": "python",
   "pygments_lexer": "ipython3",
   "version": "3.9.7"
  }
 },
 "nbformat": 4,
 "nbformat_minor": 5
}
