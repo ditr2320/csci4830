{
 "cells": [
  {
   "cell_type": "code",
   "execution_count": 1,
   "id": "52ffcd94-9ca7-4032-9c75-7ab06d127004",
   "metadata": {},
   "outputs": [],
   "source": [
    "import pandas as pd\n",
    "import numpy as np\n",
    "import math\n",
    "import matplotlib.pyplot as plt\n",
    "import scipy.stats as stats\n",
    "import statsmodels.api as sm"
   ]
  },
  {
   "cell_type": "code",
   "execution_count": 2,
   "id": "51889e9d-057d-4068-b376-741d4423c349",
   "metadata": {},
   "outputs": [],
   "source": [
    "se = 0.90\n",
    "sp = 0.98"
   ]
  },
  {
   "cell_type": "code",
   "execution_count": 3,
   "id": "c5b0a2fc-732f-452e-a0c5-9dd104be75c4",
   "metadata": {},
   "outputs": [
    {
     "name": "stdout",
     "output_type": "stream",
     "text": [
      "0.4204545454545455\n"
     ]
    },
    {
     "data": {
      "text/plain": [
       "(0.3237026795618455, 0.5172064113472455)"
      ]
     },
     "execution_count": 3,
     "metadata": {},
     "output_type": "execute_result"
    }
   ],
   "source": [
    "prev = 39/100\n",
    "n = 100\n",
    "p = (prev-(1-sp))/(se+sp-1)\n",
    "print(p)\n",
    "upper_p = p + 1.96 * math.sqrt((p * (1 - p)) / n)\n",
    "lower_p = p - 1.96 * math.sqrt((p * (1 - p)) / n)\n",
    "(lower_p,upper_p)"
   ]
  },
  {
   "cell_type": "code",
   "execution_count": 4,
   "id": "324f2728-8c00-45bc-af06-a1772adb8888",
   "metadata": {},
   "outputs": [
    {
     "name": "stdout",
     "output_type": "stream",
     "text": [
      "0.38636363636363635\n"
     ]
    },
    {
     "data": {
      "text/plain": [
       "(0.25139752491461587, 0.5213297478126568)"
      ]
     },
     "execution_count": 4,
     "metadata": {},
     "output_type": "execute_result"
    }
   ],
   "source": [
    "prev = 18/50\n",
    "n = 50\n",
    "p = (prev-(1-sp))/(se+sp-1)\n",
    "print(p)\n",
    "upper_p = p + 1.96 * math.sqrt((p * (1 - p)) / n)\n",
    "lower_p = p - 1.96 * math.sqrt((p * (1 - p)) / n)\n",
    "(lower_p,upper_p)"
   ]
  },
  {
   "cell_type": "code",
   "execution_count": 5,
   "id": "640bac62-7323-45e9-828f-e15b0ea9f1ae",
   "metadata": {},
   "outputs": [
    {
     "name": "stdout",
     "output_type": "stream",
     "text": [
      "0.4090909090909091\n"
     ]
    },
    {
     "data": {
      "text/plain": [
       "(0.3304079486454429, 0.48777386953637536)"
      ]
     },
     "execution_count": 5,
     "metadata": {},
     "output_type": "execute_result"
    }
   ],
   "source": [
    "prev = 57/150\n",
    "n = 150\n",
    "p = (prev-(1-sp))/(se+sp-1)\n",
    "print(p)\n",
    "upper_p = p + 1.96 * math.sqrt((p * (1 - p)) / n)\n",
    "lower_p = p - 1.96 * math.sqrt((p * (1 - p)) / n)\n",
    "(lower_p,upper_p)"
   ]
  },
  {
   "cell_type": "code",
   "execution_count": 6,
   "id": "cb6b5104-8f20-4d08-8d4a-e3e8bb7c87b2",
   "metadata": {},
   "outputs": [
    {
     "name": "stdout",
     "output_type": "stream",
     "text": [
      "0.4090909090909091\n"
     ]
    }
   ],
   "source": [
    "print(p)"
   ]
  },
  {
   "cell_type": "code",
   "execution_count": 9,
   "id": "bc2b2922-a41c-4413-a065-807b696cc6a5",
   "metadata": {},
   "outputs": [
    {
     "data": {
      "text/plain": [
       "0.9688995215311005"
      ]
     },
     "execution_count": 9,
     "metadata": {},
     "output_type": "execute_result"
    }
   ],
   "source": [
    "ppv = (se*p)/((se*p) + (1-sp)*(1-p))\n",
    "ppv"
   ]
  }
 ],
 "metadata": {
  "kernelspec": {
   "display_name": "Python 3 (ipykernel)",
   "language": "python",
   "name": "python3"
  },
  "language_info": {
   "codemirror_mode": {
    "name": "ipython",
    "version": 3
   },
   "file_extension": ".py",
   "mimetype": "text/x-python",
   "name": "python",
   "nbconvert_exporter": "python",
   "pygments_lexer": "ipython3",
   "version": "3.9.7"
  }
 },
 "nbformat": 4,
 "nbformat_minor": 5
}
